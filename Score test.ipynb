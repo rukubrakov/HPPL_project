{
 "cells": [
  {
   "cell_type": "code",
   "execution_count": 4,
   "metadata": {},
   "outputs": [],
   "source": [
    "from interfaces import accuracy"
   ]
  },
  {
   "cell_type": "code",
   "execution_count": 5,
   "metadata": {},
   "outputs": [
    {
     "name": "stdout",
     "output_type": "stream",
     "text": [
      "1.0 1.0\n"
     ]
    }
   ],
   "source": [
    "words_real = ['a','b','c']\n",
    "counts_real = [100,115,3]\n",
    "words_predicted = ['a','b','c']\n",
    "counts_predicted = [100,115,3]\n",
    "\n",
    "hit_rate, score = accuracy(words_real, counts_real, words_predicted, counts_predicted)\n",
    "print(hit_rate, score)"
   ]
  },
  {
   "cell_type": "code",
   "execution_count": 6,
   "metadata": {},
   "outputs": [
    {
     "name": "stdout",
     "output_type": "stream",
     "text": [
      "0.0 0.0\n"
     ]
    }
   ],
   "source": [
    "words_real = ['a','b','c']\n",
    "counts_real = [100,115,3]\n",
    "words_predicted = ['a1','b1','c1']\n",
    "counts_predicted = [100,115,3]\n",
    "\n",
    "hit_rate, score = accuracy(words_real, counts_real, words_predicted, counts_predicted)\n",
    "print(hit_rate, score)"
   ]
  },
  {
   "cell_type": "code",
   "execution_count": 7,
   "metadata": {},
   "outputs": [
    {
     "name": "stdout",
     "output_type": "stream",
     "text": [
      "0.5 0.9388646288209607\n"
     ]
    }
   ],
   "source": [
    "words_real = ['a','b','c']\n",
    "counts_real = [105,119,5]\n",
    "words_predicted = ['a','b','d']\n",
    "counts_predicted = [100,115,3]\n",
    "\n",
    "hit_rate, score = accuracy(words_real, counts_real, words_predicted, counts_predicted)\n",
    "print(hit_rate, score)"
   ]
  },
  {
   "cell_type": "code",
   "execution_count": null,
   "metadata": {},
   "outputs": [],
   "source": []
  }
 ],
 "metadata": {
  "kernelspec": {
   "display_name": "Python 3",
   "language": "python",
   "name": "python3"
  },
  "language_info": {
   "codemirror_mode": {
    "name": "ipython",
    "version": 3
   },
   "file_extension": ".py",
   "mimetype": "text/x-python",
   "name": "python",
   "nbconvert_exporter": "python",
   "pygments_lexer": "ipython3",
   "version": "3.8.3"
  }
 },
 "nbformat": 4,
 "nbformat_minor": 4
}
