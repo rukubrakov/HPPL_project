{
 "cells": [
  {
   "cell_type": "code",
   "execution_count": 1,
   "metadata": {},
   "outputs": [],
   "source": [
    "import interfaces as inter"
   ]
  },
  {
   "cell_type": "code",
   "execution_count": 3,
   "metadata": {},
   "outputs": [],
   "source": [
    "file = 'TEST.txt'\n",
    "inter.file_to_n_files(file,4) #will not work now, functions should be implemented first!"
   ]
  },
  {
   "cell_type": "code",
   "execution_count": 9,
   "metadata": {},
   "outputs": [],
   "source": [
    "#t = %timeit -o !mpiexec —allow-run-as-root -n 4 python main.py\n",
    "#will not work now, functions should be implemented first!\n",
    "times = []\n",
    "for n_use in [2000]:\n",
    "    for n_keep in [1000]:\n",
    "        for n_final_top in [500]:\n",
    "            f = open('main.py','w')\n",
    "            f.write('''import interfaces as inter\n",
    "from mpi4py import MPI\n",
    "\n",
    "N_USE = n_use\n",
    "N_KEEP = n_keep\n",
    "N_FINAL_TOP = n_final_top\n",
    "FILENAME = 'TEST'\n",
    "\n",
    "comm = MPI.COMM_WORLD\n",
    "rank = comm.Get_rank()\n",
    "filename = FILENAME + '_' + str(rank + 1) + '.txt'\n",
    "\n",
    "inter.pipeline(filename, N_USE, N_KEEP, rank, comm,N_FINAL_TOP)'''.replace('n_use',str(n_use)).replace('n_keep',str(n_keep)).replace('n_final_top',str(n_final_top)))\n",
    "            f.close()\n",
    "            t = %timeit -o !mpiexec -n 4 python main.py\n",
    "            times.append(t)\n",
    "            #later we will add score calculation here\n",
    "\n"
   ]
  },
  {
   "cell_type": "code",
   "execution_count": null,
   "metadata": {},
   "outputs": [],
   "source": []
  }
 ],
 "metadata": {
  "kernelspec": {
   "display_name": "Python 3",
   "language": "python",
   "name": "python3"
  },
  "language_info": {
   "codemirror_mode": {
    "name": "ipython",
    "version": 3
   },
   "file_extension": ".py",
   "mimetype": "text/x-python",
   "name": "python",
   "nbconvert_exporter": "python",
   "pygments_lexer": "ipython3",
   "version": "3.8.3"
  }
 },
 "nbformat": 4,
 "nbformat_minor": 4
}
